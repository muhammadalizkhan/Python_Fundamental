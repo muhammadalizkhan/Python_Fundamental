{
  "nbformat": 4,
  "nbformat_minor": 0,
  "metadata": {
    "colab": {
      "provenance": []
    },
    "kernelspec": {
      "name": "python3",
      "display_name": "Python 3"
    },
    "language_info": {
      "name": "python"
    }
  },
  "cells": [
    {
      "cell_type": "code",
      "source": [
        "def clean(floor):\n",
        "    i, j, row, col = 0, 0, len(floor), len(floor[0])\n",
        "    for i in range(row):\n",
        "        if(i%2 == 0):\n",
        "            for j in range(col):\n",
        "                if(floor[i][j] == 1):\n",
        "                    print_F(floor, i, j)\n",
        "                    floor[i][j] = 0\n",
        "                print_F(floor, i, j)\n",
        "        else:\n",
        "            for j in range(col-1, -1, -1):\n",
        "                if(floor[i][j] == 1):\n",
        "                    print_F(floor, i, j)\n",
        "                    floor[i][j] = 0\n",
        "                print_F(floor, i, j)"
      ],
      "metadata": {
        "id": "2F59PBEfcY_j"
      },
      "execution_count": 2,
      "outputs": []
    },
    {
      "cell_type": "code",
      "source": [
        "def print_F(floor, row, col):\n",
        "    \"\"\"A function to print the GRID , (row, col) represent the current vacuum cleaner position\"\"\"\n",
        "    print(\"The Floor matrix is as below:\")\n",
        "    for r in range(len(floor)):\n",
        "        for c in range(len(floor[r])):\n",
        "            if r == row and c == col:\n",
        "                print(f\" >{floor[r][c]}< \", end = '')\n",
        "            else:\n",
        "                print(f\"  {floor[r][c]}  \", end = '')\n",
        "        print(end = '\\n')\n",
        "    print(end = '\\n')"
      ],
      "metadata": {
        "id": "8gtPfpe0cdt0"
      },
      "execution_count": 3,
      "outputs": []
    },
    {
      "cell_type": "code",
      "source": [
        "def main():\n",
        "    floor = []\n",
        "    m = int(input(\"Enter the No. of Rows: \"))\n",
        "    n = int(input(\"Enter the No. of Columns: \"))\n",
        "    print(\"Enter clean status for each cell (1 - dirty, 0 - clean)\")\n",
        "    for i in range(m):\n",
        "        f = list(map(int, input().split(\" \")))\n",
        "        floor.append(f)\n",
        "    print()\n",
        "    clean(floor)"
      ],
      "metadata": {
        "id": "p-Z-Aq4dch9r"
      },
      "execution_count": 5,
      "outputs": []
    },
    {
      "cell_type": "code",
      "source": [
        "main()"
      ],
      "metadata": {
        "colab": {
          "base_uri": "https://localhost:8080/"
        },
        "id": "6lrbaVZUcrfh",
        "outputId": "be1e2b3b-13ad-4f92-e0c4-4a31ecd7853f"
      },
      "execution_count": null,
      "outputs": [
        {
          "metadata": {
            "tags": null
          },
          "name": "stdout",
          "output_type": "stream",
          "text": [
            "Enter clean status for each cell (1 - dirty, 0 - clean)\n"
          ]
        }
      ]
    }
  ]
}
 Save
