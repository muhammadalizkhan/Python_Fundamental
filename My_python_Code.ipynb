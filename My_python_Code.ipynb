{
  "nbformat": 4,
  "nbformat_minor": 0,
  "metadata": {
    "colab": {
      "provenance": []
    },
    "kernelspec": {
      "name": "python3",
      "display_name": "Python 3"
    },
    "language_info": {
      "name": "python"
    }
  },
  "cells": [
    {
      "cell_type": "markdown",
      "source": [
        "1. Python Introduction\n",
        "\n",
        " 1.1. Why Python?\n",
        " 1.2. Where it is used?\n",
        "\n",
        "2. Data Types\n",
        "\n",
        " 2.1 Variables\n",
        "\n",
        " 2.1.1. Local variable\n",
        "\n",
        " 2.1.2. Global Variables\n",
        "\n",
        " 2.1.3. Global keyword\n",
        "\n",
        " 2.2 Numbers\n",
        "\n",
        " 2.2.1. Integer\n",
        "\n",
        " 2.2.2. Floating point\n",
        "\n",
        " 2.2.3. Complex\n",
        "\n",
        " 2.3 Strings\n",
        "\n",
        " 2.3.1. String Length\n",
        "\n",
        " 2.3.2. String Methods\n",
        "\n",
        " 2.3.3. Accesing the value of string\n",
        "\n",
        " 2.3.4. Update the String\n",
        "\n",
        " 2.3.5. String Special operators\n",
        "\n",
        " 2.3.6. String Formatting operators\n",
        "\n",
        " 2.4 Lists\n",
        "\n",
        " 2.4.1. Create a List\n",
        "\n",
        " 2.4.2. Access values of List\n",
        "\n",
        " 2.4.3. Update the List\n",
        "\n",
        " 2.4.4. Addition in List\n",
        "\n",
        " 2.4.5. Deletion Methods in List\n",
        "\n",
        " 2.4.6. Reverse the List\n",
        "\n",
        " 2.4.7. List sorting\n",
        "\n",
        "2.5 Dictionaries\n",
        "\n",
        " 2.5.1. Create a Dictionaries\n",
        "\n",
        " 2.5.2. Access the value of Dictionary\n",
        "\n",
        " 2.5.3. UPdate the Dictionary\n",
        "\n",
        " 2.5.4. Delete the Dictionary (All Methods)\n",
        "\n",
        " 2.5.5. Length of Dictionary\n",
        "\n",
        "2.6 Tuples\n",
        "\n",
        " 2.6.1. Create a Tuples\n",
        "\n",
        " 2.6.2. Access the value of Tuples\n",
        "\n",
        " 2.6.3. UPdate the Tuples\n",
        "\n",
        " 2.6.4. Delete the Tuples (All Methods)\n",
        "\n",
        " 2.6.5. Length of Tuple\n",
        "\n",
        "2.7 Sets\n",
        "\n",
        " 2.7.1. Create a Sets\n",
        "\n",
        " 2.7.2. Access the items of Sets\n",
        "\n",
        " 2.7.3. Add and Update items in Sets\n",
        "\n",
        " 2.7.4. Delete the Sets (All Methods)\n",
        "\n",
        "3. Operators\n",
        "\n",
        " 3.1. Arithmetic Operators\n",
        "\n",
        " 3.2. Comarison Operators\n",
        "\n",
        " 3.3. Logical Operators\n",
        "\n",
        " 3.4. Assignment Operators\n",
        "\n",
        "4. Conditional statements\n",
        "\n",
        " 4.1. If statement\n",
        "\n",
        " 4.2. if-else statement\n",
        "\n",
        " 4.3. if-else-if statement (Elif)\n",
        "\n",
        "5. Loops\n",
        "\n",
        " 5.1. For loop\n",
        "\n",
        " 5.2. Break statement\n",
        "\n",
        " 5.3. Continue statement\n",
        "\n",
        " 5.4. While loop\n",
        "\n",
        " 5.5. Nested loops\n",
        "\n",
        "6. Functions\n",
        "\n",
        " 6.1. Create a Function\n",
        "\n",
        " 6.2. Calling a Function\n",
        "\n",
        " 6.3. Parameters in a Function\n",
        "\n",
        " 6.4. Default parameter in Function\n",
        "\n",
        " 6.5. Return in Function\n",
        "\n",
        "7. Lambda Functions\n",
        "\n",
        " 7.1. Syntax of Lambda Function\n",
        "\n",
        " 7.2. Map()\n",
        "\n",
        " 7.3. filter()\n",
        "\n",
        " 7.4. Why, When and where it is used?\n",
        "\n",
        "8. Arrays\n",
        "\n",
        " 8.1. Create, Access and Update Array\n",
        "\n",
        "9. Class and objects\n",
        "\n",
        " 9.1. Create class and objects\n",
        "\n",
        "10. File I/O\n",
        "\n",
        " 10.1. Reading input from keyboard\n",
        "\n",
        " 10.2.I/O from text file\n",
        "\n",
        " 10.2.1. Create a text file\n",
        "\n",
        " 10.2.2. Reading a file\n",
        "\n",
        " 10.2.3. write into a file\n",
        "\n",
        " 10.3. File position\n",
        "\n",
        " 10.4. Why, When and where File I/O is used?\n",
        "\n",
        "11. Pandas Library Introduction\n",
        "\n",
        " 11.1. Read Dataset using Pandas\n",
        "\n",
        " 11.2. Why, When and where it is used?\n",
        "\n",
        "12. Series\n",
        "\n",
        " 12.1. Create a series\n",
        "\n",
        " 12.2. From ndarray\n",
        "\n",
        " 12.3. From dict\n",
        "\n",
        " 12.4. From Scalar Value\n",
        "\n",
        " 12.5. series is ndarray-like\n",
        "\n",
        " 12.6. series is dict-like\n",
        "\n",
        " 12.7. vectorized operations and label alignment with series\n",
        "\n",
        " 18.8. Why, When and where Series is used?\n",
        "\n",
        "13. Data Frames\n",
        "\n",
        " 13.1. From dict of series or dicts\n",
        "\n",
        " 13.2. From dict of ndarrays /lists\n",
        "\n",
        " 13.3. From a list of dicts\n",
        "\n",
        " 13.4. From a dict of tuples\n",
        "\n",
        " 13.5. Alternate constructors\n",
        "\n",
        " 13.6. Cloumn Selection, Addition, and Deletion\n",
        "\n",
        " 16.6.1. Column Selection\n",
        "\n",
        " 16.6.2. Column Deletion\n",
        "\n",
        " 16.6.3. Column Insertion\n",
        "\n",
        " 13.7. Indexing/ Seletion\n",
        "\n",
        " 13.8. Data Allignment and arithmetic\n",
        "\n",
        " 13.9. Transposing\n",
        "\n",
        " 13.10 Why, When and where DataFrames is used?\n",
        "\n",
        "14. Veiwing Data\n",
        "\n",
        " 14.1. Data viewing Method"
      ],
      "metadata": {
        "id": "lWNsZHoCkvpc"
      }
    },
    {
      "cell_type": "markdown",
      "source": [
        "#**1. Python Introduction**"
      ],
      "metadata": {
        "id": "D4gQOkz0h1kc"
      }
    },
    {
      "cell_type": "markdown",
      "source": [
        "Python is one of the most popular programming languages. Although it is a general-purpose language, it is used in various areas of applications such as Machine Learning, Artificial Intelligence, web development, IoT, and more."
      ],
      "metadata": {
        "id": "bkOHDn0MiXLk"
      }
    },
    {
      "cell_type": "markdown",
      "source": [
        "#1.1 Why Python?"
      ],
      "metadata": {
        "id": "XQzTG4DZq5SI"
      }
    },
    {
      "cell_type": "markdown",
      "source": [
        "Python is a very popular general-purpose interpreted, interactive, object-oriented, and high-level programming language. Python is dynamically-typed and garbage-collected programming language. It was created by Guido van Rossum during 1985- 1990. Like Perl, Python source code is also available under the GNU General Public License (GPL)."
      ],
      "metadata": {
        "id": "sjisR19wrKtx"
      }
    },
    {
      "cell_type": "markdown",
      "source": [
        "# 1.2 Where it is used?"
      ],
      "metadata": {
        "id": "xL0UbCNEr1rx"
      }
    },
    {
      "cell_type": "markdown",
      "source": [
        "Python is commonly used for developing websites and software, task automation, data analysis, and data visualization. Since it's relatively easy to learn, Python has been adopted by many non-programmers such as accountants and scientists, for a variety of everyday tasks, like organizing finances."
      ],
      "metadata": {
        "id": "xJfYT6VUr8OP"
      }
    },
    {
      "cell_type": "markdown",
      "source": [
        "# **2. Data Types**"
      ],
      "metadata": {
        "id": "GkvA32xFi0Jm"
      }
    },
    {
      "cell_type": "markdown",
      "source": [
        "String"
      ],
      "metadata": {
        "id": "sECYchkCuLkO"
      }
    },
    {
      "cell_type": "code",
      "source": [
        "x = str(\"Hello World\")\n",
        "print(x)\n",
        "print(type(x))"
      ],
      "metadata": {
        "colab": {
          "base_uri": "https://localhost:8080/"
        },
        "id": "38Tzmggci5ME",
        "outputId": "c244401a-8199-4cc4-c38d-d6ebd4b71327"
      },
      "execution_count": null,
      "outputs": [
        {
          "output_type": "stream",
          "name": "stdout",
          "text": [
            "Hello World\n",
            "<class 'str'>\n"
          ]
        }
      ]
    },
    {
      "cell_type": "markdown",
      "source": [
        "Int"
      ],
      "metadata": {
        "id": "Ld_neI7OuQ_M"
      }
    },
    {
      "cell_type": "code",
      "source": [
        "x = int(20)\n",
        "print(x)\n",
        "print(type(x))\n"
      ],
      "metadata": {
        "id": "EBxyqXdluRg7"
      },
      "execution_count": null,
      "outputs": []
    },
    {
      "cell_type": "markdown",
      "source": [
        "Float"
      ],
      "metadata": {
        "id": "s53StAgvuRqC"
      }
    },
    {
      "cell_type": "code",
      "source": [
        "x = float(20.5)\n",
        "print(x)\n",
        "print(type(x))\n"
      ],
      "metadata": {
        "id": "gkHd7TwXuR0z",
        "colab": {
          "base_uri": "https://localhost:8080/"
        },
        "outputId": "8c93f73f-1e4e-47a5-854f-f66ce62f7caa"
      },
      "execution_count": null,
      "outputs": [
        {
          "output_type": "stream",
          "name": "stdout",
          "text": [
            "20.5\n",
            "<class 'float'>\n"
          ]
        }
      ]
    },
    {
      "cell_type": "markdown",
      "source": [
        "Complex"
      ],
      "metadata": {
        "id": "KtAeblD3uSAC"
      }
    },
    {
      "cell_type": "code",
      "source": [
        "x = complex(1j)\n",
        "print(x)\n",
        "print(type(x))\n"
      ],
      "metadata": {
        "id": "-rDSPPhguSKb"
      },
      "execution_count": null,
      "outputs": []
    },
    {
      "cell_type": "markdown",
      "source": [
        "List"
      ],
      "metadata": {
        "id": "e3484Xj5uSTC"
      }
    },
    {
      "cell_type": "code",
      "source": [
        "x = list((\"apple\", \"banana\", \"cherry\"))\n",
        "print(x)\n",
        "print(type(x))\n"
      ],
      "metadata": {
        "id": "MraV-eLmuSdD"
      },
      "execution_count": null,
      "outputs": []
    },
    {
      "cell_type": "markdown",
      "source": [
        "Tuple"
      ],
      "metadata": {
        "id": "jsNtDv79uSoz"
      }
    },
    {
      "cell_type": "code",
      "source": [
        "x = tuple((\"apple\", \"banana\", \"cherry\"))\n",
        "print(x)\n",
        "print(type(x))\n"
      ],
      "metadata": {
        "id": "mNhsA1hHuSyS"
      },
      "execution_count": null,
      "outputs": []
    },
    {
      "cell_type": "markdown",
      "source": [
        "Range"
      ],
      "metadata": {
        "id": "74rVZsY7vFsF"
      }
    },
    {
      "cell_type": "code",
      "source": [
        "x = range(6)\n",
        "print(x)\n",
        "print(type(x))\n"
      ],
      "metadata": {
        "id": "o4bxIIM_vF_u"
      },
      "execution_count": null,
      "outputs": []
    },
    {
      "cell_type": "markdown",
      "source": [
        "Dict"
      ],
      "metadata": {
        "id": "znBUCUE3vGH2"
      }
    },
    {
      "cell_type": "code",
      "source": [
        "x = dict(name=\"John\", age=36)\n",
        "print(x)\n",
        "print(type(x))\n"
      ],
      "metadata": {
        "id": "VwykU5bJvGPe"
      },
      "execution_count": null,
      "outputs": []
    },
    {
      "cell_type": "markdown",
      "source": [
        "# 2.1 Variables"
      ],
      "metadata": {
        "id": "Z6_gbEyLlF8m"
      }
    },
    {
      "cell_type": "markdown",
      "source": [
        "Variables are containers for storing data values. Python has no command for declaring a variable. A variable is created the moment you first assign a value to it."
      ],
      "metadata": {
        "id": "iICw1hcawkve"
      }
    },
    {
      "cell_type": "code",
      "source": [
        "x = 5\n",
        "y = \"Muhammad Ali\"\n",
        "print(x)\n",
        "print(y)"
      ],
      "metadata": {
        "id": "dgUS1K96vp6O"
      },
      "execution_count": null,
      "outputs": []
    },
    {
      "cell_type": "markdown",
      "source": [
        "2.1.1 Local Variable"
      ],
      "metadata": {
        "id": "btknDuoDvrAt"
      }
    },
    {
      "cell_type": "code",
      "source": [
        "def sum(x,y):\n",
        "sum = x + y\n",
        "return sum\n",
        "print(sum(5, 10))\n"
      ],
      "metadata": {
        "id": "PnoTj4zwvwN-"
      },
      "execution_count": null,
      "outputs": []
    },
    {
      "cell_type": "markdown",
      "source": [
        "2.1.2 Global Variable"
      ],
      "metadata": {
        "id": "E-d8_toiwABQ"
      }
    },
    {
      "cell_type": "markdown",
      "source": [
        "A global keyword is a keyword that allows a user to modify a variable outside the current scope. It is used to create global variables in Python from a non-global scope"
      ],
      "metadata": {
        "id": "5WOCgxylwb2M"
      }
    },
    {
      "cell_type": "code",
      "source": [
        "x = \"awesome\"\n",
        "def myfunc():\n",
        "  x = \"fantastic\"\n",
        "  print(\"Python is \" + x)\n",
        "myfunc()\n",
        "print(\"Python is \" + x)"
      ],
      "metadata": {
        "id": "DyiS4xoEwEvT"
      },
      "execution_count": null,
      "outputs": []
    },
    {
      "cell_type": "markdown",
      "source": [
        "# 2.2 Number"
      ],
      "metadata": {
        "id": "__ZjzGyRw3-v"
      }
    },
    {
      "cell_type": "markdown",
      "source": [
        "There are three numeric types in Python:\n",
        "1.   Int\n",
        "2.   Float\n",
        "3.   Complex\n",
        "\n",
        "Variables of numeric types are created when you assign a value to them:"
      ],
      "metadata": {
        "id": "a9CscN1uw82v"
      }
    },
    {
      "cell_type": "markdown",
      "source": [
        "2.2.1 Interger"
      ],
      "metadata": {
        "id": "RvY76j_BxSSq"
      }
    },
    {
      "cell_type": "code",
      "source": [
        "x = 1\n",
        "y = 35656222554887711\n",
        "z = -3255522\n",
        "print(type(x))\n",
        "print(type(y))\n",
        "print(type(z))"
      ],
      "metadata": {
        "id": "qzwZsYqmxTz8"
      },
      "execution_count": null,
      "outputs": []
    },
    {
      "cell_type": "markdown",
      "source": [
        "2.2.2 Floating Point"
      ],
      "metadata": {
        "id": "FYy1y3NbxWZr"
      }
    },
    {
      "cell_type": "code",
      "source": [
        "x = 1.10\n",
        "y = 1.0\n",
        "z = -35.59\n",
        "print(type(x))\n",
        "print(type(y))\n",
        "print(type(z))"
      ],
      "metadata": {
        "id": "L813bJeHxW8T"
      },
      "execution_count": null,
      "outputs": []
    },
    {
      "cell_type": "markdown",
      "source": [
        "2.2.3 Complex"
      ],
      "metadata": {
        "id": "QyEOjhh5xXGb"
      }
    },
    {
      "cell_type": "code",
      "source": [
        "x = 3+5j\n",
        "y = 5j\n",
        "z = -5j\n",
        "print(type(x))\n",
        "print(type(y))\n",
        "print(type(z))"
      ],
      "metadata": {
        "id": "lHcccD2kxXRT"
      },
      "execution_count": null,
      "outputs": []
    },
    {
      "cell_type": "markdown",
      "source": [
        "# 2.3 String"
      ],
      "metadata": {
        "id": "6cfU20sux9Fm"
      }
    },
    {
      "cell_type": "markdown",
      "source": [
        "Strings in python are surrounded by either single quotation marks, or double quotation marks.\n",
        "\n",
        "'hello' is the same as \"hello\".\n",
        "\n",
        "You can display a string literal with the print() function:"
      ],
      "metadata": {
        "id": "B8iF8pjpyAZP"
      }
    },
    {
      "cell_type": "code",
      "source": [
        "print(\"Hello\")\n",
        "print('Hello')"
      ],
      "metadata": {
        "id": "4edPqRYHyDw3"
      },
      "execution_count": null,
      "outputs": []
    },
    {
      "cell_type": "markdown",
      "source": [
        "2.3.1 String Length"
      ],
      "metadata": {
        "id": "v2tdLt2OyHSf"
      }
    },
    {
      "cell_type": "code",
      "source": [
        "a = \"Hello, World!\"\n",
        "print(len(a))"
      ],
      "metadata": {
        "id": "eERP7AfHyM7h"
      },
      "execution_count": null,
      "outputs": []
    },
    {
      "cell_type": "markdown",
      "source": [
        "2.3.2 String Methods"
      ],
      "metadata": {
        "id": "KN_DMxbjybBh"
      }
    },
    {
      "cell_type": "markdown",
      "source": [
        "Python has a set of built-in methods that you can use on strings."
      ],
      "metadata": {
        "id": "l3xCNj5gyuxK"
      }
    },
    {
      "cell_type": "markdown",
      "source": [
        "2.3.3 Accessing the value of String"
      ],
      "metadata": {
        "id": "pIzT4yS-zIVK"
      }
    },
    {
      "cell_type": "code",
      "source": [
        "var1 = 'Muhammmad Ali'\n",
        "var2 = \"70132700\"\n",
        "print(\"var1[0]:\", var1[0])\n",
        "print(\"var2[1:5]:\", var2[1:5])"
      ],
      "metadata": {
        "id": "8fEeqWUrzQoT",
        "colab": {
          "base_uri": "https://localhost:8080/"
        },
        "outputId": "5e56a0dc-bb8d-4e5a-da59-5e871fe9d6f0"
      },
      "execution_count": null,
      "outputs": [
        {
          "output_type": "stream",
          "name": "stdout",
          "text": [
            "var1[0]: M\n",
            "var2[1:5]: 0132\n"
          ]
        }
      ]
    },
    {
      "cell_type": "markdown",
      "source": [
        "2.3.4 Update the String"
      ],
      "metadata": {
        "id": "CnC-teTk1BaG"
      }
    },
    {
      "cell_type": "code",
      "source": [
        "s = \"Hello, world!\"\n",
        "s = s.replace(\"Hello\", \"Goodbye\")\n",
        "print(s)"
      ],
      "metadata": {
        "id": "fY15EQ591FZH",
        "colab": {
          "base_uri": "https://localhost:8080/"
        },
        "outputId": "d2c1ae9c-47a7-46f9-843a-35dabd474284"
      },
      "execution_count": null,
      "outputs": [
        {
          "output_type": "stream",
          "name": "stdout",
          "text": [
            "Goodbye, world!\n"
          ]
        }
      ]
    },
    {
      "cell_type": "markdown",
      "source": [
        "2.3.5 String Special Operators"
      ],
      "metadata": {
        "id": "TeyO02yD12tg"
      }
    },
    {
      "cell_type": "code",
      "source": [
        "string1 = \"hello\"\n",
        "string2 = 'hello'\n",
        "string3 = '''hello'''\n",
        "print(string1)\n",
        "print(string2)\n",
        "print(string3)"
      ],
      "metadata": {
        "id": "6aYgS5an16k3",
        "colab": {
          "base_uri": "https://localhost:8080/"
        },
        "outputId": "b2f62abf-aa52-489a-cf6a-28ef5ba26525"
      },
      "execution_count": null,
      "outputs": [
        {
          "output_type": "stream",
          "name": "stdout",
          "text": [
            "hello\n",
            "hello\n",
            "hello\n"
          ]
        }
      ]
    },
    {
      "cell_type": "code",
      "source": [
        "string1 = \"hello\"\n",
        "string2 = \"world \"\n",
        "string_combined = string1+string2\n",
        "print(string_combined)"
      ],
      "metadata": {
        "id": "3HhjZk8-eCVW"
      },
      "execution_count": null,
      "outputs": []
    },
    {
      "cell_type": "code",
      "source": [
        "string1 = \"helloworld \"\n",
        "print(string1*2)\n",
        "print(string1*3)\n",
        "print(string1*4)\n",
        "print(string1*5)"
      ],
      "metadata": {
        "id": "tgpKBN6ReFZm"
      },
      "execution_count": null,
      "outputs": []
    },
    {
      "cell_type": "code",
      "source": [
        "string1 = \"helloworld\"\n",
        "print(string1[1])\n",
        "print(string1[-3])\n",
        "print(string1[1:5])\n",
        "print(string1[1:-3])\n",
        "print(string1[2:])\n",
        "print(string1[:5])\n",
        "print(string1[:-2])\n",
        "print(string1[-2:])\n",
        "print(string1[::-1])"
      ],
      "metadata": {
        "id": "ZWfVfjo-eFeA"
      },
      "execution_count": null,
      "outputs": []
    },
    {
      "cell_type": "code",
      "source": [
        "string1 = \"hello\"\n",
        "string2 = \"hello, world\"\n",
        "string3 = \"hello, world\"\n",
        "string4 = \"world\"\n",
        "print(string1==string4)\n",
        "print(string2==string3)\n",
        "print(string1!=string4)\n",
        "print(string2!=string3)"
      ],
      "metadata": {
        "id": "1lbU_8c9eFg4"
      },
      "execution_count": null,
      "outputs": []
    },
    {
      "cell_type": "code",
      "source": [
        "string1 = \"helloworld\"\n",
        "print(\"w\" in string1)\n",
        "print(\"W\" in string1)\n",
        "print(\"t\" in string1)\n",
        "print(\"t\" not in string1)\n",
        "print(\"hello\" in string1)\n",
        "print(\"Hello\" in string1)\n",
        "print(\"hello\" not in string1)"
      ],
      "metadata": {
        "id": "pJYKYl5YeO8m"
      },
      "execution_count": null,
      "outputs": []
    },
    {
      "cell_type": "code",
      "source": [
        "string = \"Hello world I am from \\\"PAKISTAN\\\"\"\n",
        "print(string)"
      ],
      "metadata": {
        "colab": {
          "base_uri": "https://localhost:8080/"
        },
        "id": "BTk82wYHeSUP",
        "outputId": "3443f931-a622-4f63-9d19-8182054350e1"
      },
      "execution_count": null,
      "outputs": [
        {
          "output_type": "stream",
          "name": "stdout",
          "text": [
            "Hello world I am from \"PAKISTAN\"\n"
          ]
        }
      ]
    },
    {
      "cell_type": "markdown",
      "source": [
        "2.3.6 String Formatting operators"
      ],
      "metadata": {
        "id": "AQv3jCMbeo-w"
      }
    },
    {
      "cell_type": "markdown",
      "source": [
        "Python uses C-style string formatting to create new, formatted strings. The \"%\" operator is used to format a set of variables enclosed in a \"tuple\" (a fixed size list), together with a format string, which contains normal text together with \"argument specifiers\", special symbols like \"%s\" and \"%d\"."
      ],
      "metadata": {
        "id": "DMMc9XcTetcQ"
      }
    },
    {
      "cell_type": "code",
      "source": [
        "\n",
        "x = 'looked'\n",
        "\n",
        "print(\"ALI %s and %s around\"%('walked',x))"
      ],
      "metadata": {
        "colab": {
          "base_uri": "https://localhost:8080/"
        },
        "id": "3ntlN_Rle2sA",
        "outputId": "d7923740-4065-48d3-95a7-8e3e4bff550f"
      },
      "execution_count": null,
      "outputs": [
        {
          "output_type": "stream",
          "name": "stdout",
          "text": [
            "ALI walked and looked around\n"
          ]
        }
      ]
    },
    {
      "cell_type": "markdown",
      "source": [
        "# 2.4 List"
      ],
      "metadata": {
        "id": "WzsUdPO2fL3g"
      }
    },
    {
      "cell_type": "markdown",
      "source": [
        "Lists are used to store multiple items in a single variable.\n",
        "\n",
        "Lists are one of 4 built-in data types in Python used to store collections of data, the other 3 are Tuple, Set, and Dictionary, all with different qualities and usage"
      ],
      "metadata": {
        "id": "NL_ipDDUfQQ3"
      }
    },
    {
      "cell_type": "markdown",
      "source": [
        "2.4.1 Create a List"
      ],
      "metadata": {
        "id": "qQ2Vyefwfb5z"
      }
    },
    {
      "cell_type": "code",
      "source": [
        "thislist = [\"ALI\", \"INAAM\", \"MOIZ\"]\n",
        "print(thislist)"
      ],
      "metadata": {
        "colab": {
          "base_uri": "https://localhost:8080/"
        },
        "id": "jGtoPfKTfReH",
        "outputId": "54f39a18-2e37-4872-f464-1a3fa5303629"
      },
      "execution_count": null,
      "outputs": [
        {
          "output_type": "stream",
          "name": "stdout",
          "text": [
            "['ALI', 'INAAM', 'MOIZ']\n"
          ]
        }
      ]
    },
    {
      "cell_type": "markdown",
      "source": [
        "2.4.2 Acess the values of list"
      ],
      "metadata": {
        "id": "TaZVxmjJfmRi"
      }
    },
    {
      "cell_type": "markdown",
      "source": [
        "This is the most generic method that can be possibly employed to perform this task of accessing the index along with the value of the list elements. This is done using a loop."
      ],
      "metadata": {
        "id": "YT22PyDaf0HL"
      }
    },
    {
      "cell_type": "code",
      "source": [
        "test_list = [1, 4, 5, 6, 7]\n",
        "\n",
        "# Printing list\n",
        "print(\"Original list is : \" + str(test_list))\n",
        "\n",
        "# using naive method to\n",
        "# get index and value\n",
        "print(\"List index-value are : \")\n",
        "for i in range(len(test_list)):\n",
        "    print(i, end=\" \")\n",
        "    print(test_list[i])"
      ],
      "metadata": {
        "colab": {
          "base_uri": "https://localhost:8080/"
        },
        "id": "iXh5gCGafrnc",
        "outputId": "4c8eb99b-e362-4d39-e0db-33c4c5ae5b64"
      },
      "execution_count": null,
      "outputs": [
        {
          "output_type": "stream",
          "name": "stdout",
          "text": [
            "Original list is : [1, 4, 5, 6, 7]\n",
            "List index-value are : \n",
            "0 1\n",
            "1 4\n",
            "2 5\n",
            "3 6\n",
            "4 7\n"
          ]
        }
      ]
    },
    {
      "cell_type": "markdown",
      "source": [
        "2.4.3 Update the value of list"
      ],
      "metadata": {
        "id": "xSUKr7dgf7d7"
      }
    },
    {
      "cell_type": "markdown",
      "source": [
        "To update directly an element in a list, with a new value, you can use the assignment(=) operator with the specified index. For example, you can update the element at the index position of 2 in a mylist by assigning the value 35 to mylist[2]. After updating, the list becomes [10, 20, 35, 40, 50]."
      ],
      "metadata": {
        "id": "VW8AOe5DgARD"
      }
    },
    {
      "cell_type": "code",
      "source": [
        "\n",
        "mylist = [10, 20, 30, 40, 50]\n",
        "print(\"Original list: \",mylist)\n",
        "\n",
        "mylist[2] = 35\n",
        "print(\"After updating list is:\", mylist)\n"
      ],
      "metadata": {
        "colab": {
          "base_uri": "https://localhost:8080/"
        },
        "id": "7jRvz1mLgN51",
        "outputId": "98b1b616-e8ee-44b4-edbd-85b1ee4d933b"
      },
      "execution_count": null,
      "outputs": [
        {
          "output_type": "stream",
          "name": "stdout",
          "text": [
            "Original list:  [10, 20, 30, 40, 50]\n",
            "After updating list is: [10, 20, 35, 40, 50]\n"
          ]
        }
      ]
    },
    {
      "cell_type": "markdown",
      "source": [
        "2.4.4 Addition in List"
      ],
      "metadata": {
        "id": "QMIvlxMKgVEV"
      }
    },
    {
      "cell_type": "markdown",
      "source": [
        "Python list is used to store multiple items in a variable. Items in the list can be any ordered, changeable, and allow to store duplicate values. Each item of the list has an appropriate indexed value where the first index of the list starts with {0}, and the length index of the list must be n-1. Each item of the list is separated by a comma (,) symbol and enclosed within square brackets []."
      ],
      "metadata": {
        "id": "IV0UNDaygZi1"
      }
    },
    {
      "cell_type": "code",
      "source": [
        "List1 = [\"ALI\", \"INAAM\", 70132700,  \"70132699\", \"AI LAB\" ] # define the list\n",
        "\n",
        "Dept2 = [\"AI LAB\", 40, 20]\n",
        "\n",
        "HR_CS = [58, \"SIR REHMAN\"]\n",
        "List2 = [1, 2, 4, 5, 6] # integer list\n",
        "print (\" Display the List1\", List1)\n",
        "print (\" Display the List2\", List2)\n",
        "print (\" Display the Department List\", Dept2)\n",
        "print (\" Display the CS Department \", HR_CS)"
      ],
      "metadata": {
        "colab": {
          "base_uri": "https://localhost:8080/"
        },
        "id": "iED01r3DgpOU",
        "outputId": "3c59e2e5-0cb8-4243-b5de-5c441b736344"
      },
      "execution_count": null,
      "outputs": [
        {
          "output_type": "stream",
          "name": "stdout",
          "text": [
            " Display the List1 ['ALI', 'INAAM', 70132700, '70132699', 'AI LAB']\n",
            " Display the List2 [1, 2, 4, 5, 6]\n",
            " Display the Department List ['AI LAB', 40, 20]\n",
            " Display the CS Department  [58, 'SIR REHMAN']\n"
          ]
        }
      ]
    },
    {
      "cell_type": "markdown",
      "source": [
        "2.4.5 Deletion Methods in List"
      ],
      "metadata": {
        "id": "MLCkMeGChMB2"
      }
    },
    {
      "cell_type": "markdown",
      "source": [
        "Remove Elements from Two Lists Using Python remove()\n",
        "If the element is present, we will remove that iterated element using the list. remove() method in both lists. In this way, the common elements are eliminated from both lists."
      ],
      "metadata": {
        "id": "ZwNqmB0HhOdd"
      }
    },
    {
      "cell_type": "code",
      "source": [
        "marks1=[10,20,45,67,90]\n",
        "marks2=[10,20,15,57,90]\n",
        "print(\"Original marks1: \",marks1)\n",
        "print(\"Original marks2: \",marks2)\n",
        "\n",
        "for i in marks1[:]:\n",
        "    if (i in marks2):\n",
        "        marks1.remove(i)\n",
        "        marks2.remove(i)\n",
        "\n",
        "print(\"Updated marks1: \",marks1)\n",
        "print(\"Updated marks2: \",marks2)"
      ],
      "metadata": {
        "colab": {
          "base_uri": "https://localhost:8080/"
        },
        "id": "G0NuLgPThXfN",
        "outputId": "b51c26fb-eb7d-42aa-92f1-3eac03e22132"
      },
      "execution_count": null,
      "outputs": [
        {
          "output_type": "stream",
          "name": "stdout",
          "text": [
            "Original marks1:  [10, 20, 45, 67, 90]\n",
            "Original marks2:  [10, 20, 15, 57, 90]\n",
            "Updated marks1:  [45, 67]\n",
            "Updated marks2:  [15, 57]\n"
          ]
        }
      ]
    },
    {
      "cell_type": "markdown",
      "source": [
        "2.4.6. Reverse the List"
      ],
      "metadata": {
        "id": "fvv_4IAchfFt"
      }
    },
    {
      "cell_type": "code",
      "source": [
        "prime_numbers = [2, 3, 5, 7]\n",
        "prime_numbers.reverse()\n",
        "print('Reversed List:', prime_numbers)"
      ],
      "metadata": {
        "colab": {
          "base_uri": "https://localhost:8080/"
        },
        "id": "t201-_Wghu1t",
        "outputId": "2c3132d1-6342-47ee-a521-cd3ff4ba9c37"
      },
      "execution_count": null,
      "outputs": [
        {
          "output_type": "stream",
          "name": "stdout",
          "text": [
            "Reversed List: [7, 5, 3, 2]\n"
          ]
        }
      ]
    },
    {
      "cell_type": "markdown",
      "source": [
        " 2.4.7. List sorting"
      ],
      "metadata": {
        "id": "slpigOGjhz_t"
      }
    },
    {
      "cell_type": "code",
      "source": [
        "prime_numbers = [11, 3, 7, 5, 2]\n",
        "prime_numbers.sort()\n",
        "print(prime_numbers)"
      ],
      "metadata": {
        "colab": {
          "base_uri": "https://localhost:8080/"
        },
        "id": "dbLcI2jJh3sM",
        "outputId": "4416fc0b-19e1-450f-a9b4-cc1682e4b8ea"
      },
      "execution_count": null,
      "outputs": [
        {
          "output_type": "stream",
          "name": "stdout",
          "text": [
            "[2, 3, 5, 7, 11]\n"
          ]
        }
      ]
    },
    {
      "cell_type": "markdown",
      "source": [
        "# 2.5 Dictionaries"
      ],
      "metadata": {
        "id": "5F0r9TUJiCud"
      }
    },
    {
      "cell_type": "markdown",
      "source": [
        "Dictionaries are used to store data values in key:value pairs.\n",
        "\n",
        "A dictionary is a collection which is ordered*, changeable and do not allow duplicates."
      ],
      "metadata": {
        "id": "dlJg6nlooi9Q"
      }
    },
    {
      "cell_type": "markdown",
      "source": [
        "2.5.1 Create a Dictionaries"
      ],
      "metadata": {
        "id": "K08s7fHQorGg"
      }
    },
    {
      "cell_type": "code",
      "source": [
        "thisdict = {\n",
        "  \"brand\": \"Ford\",\n",
        "  \"model\": \"Mustang\",\n",
        "  \"year\": 1964\n",
        "}\n",
        "print(thisdict)"
      ],
      "metadata": {
        "colab": {
          "base_uri": "https://localhost:8080/"
        },
        "id": "hA-_R99yok_h",
        "outputId": "618aff72-3b62-49d9-f3d7-b8027f0d5df8"
      },
      "execution_count": null,
      "outputs": [
        {
          "output_type": "stream",
          "name": "stdout",
          "text": [
            "{'brand': 'Ford', 'model': 'Mustang', 'year': 1964}\n"
          ]
        }
      ]
    },
    {
      "cell_type": "markdown",
      "source": [
        " 2.5.2. Access the value of Dictionary"
      ],
      "metadata": {
        "id": "OS8XRl-Bowb4"
      }
    },
    {
      "cell_type": "code",
      "source": [
        "thisdict = {\n",
        "  \"brand\": \"Ford\",\n",
        "  \"model\": \"Mustang\",\n",
        "  \"year\": 1964\n",
        "}\n",
        "x = thisdict[\"model\"]\n"
      ],
      "metadata": {
        "id": "Z23HY0w-ozHh"
      },
      "execution_count": null,
      "outputs": []
    },
    {
      "cell_type": "markdown",
      "source": [
        " 2.5.3. UPdate the Dictionary"
      ],
      "metadata": {
        "id": "R5s8fh9Xo2Ig"
      }
    },
    {
      "cell_type": "code",
      "source": [
        "thisdict = {\n",
        "  \"brand\": \"Ford\",\n",
        "  \"model\": \"Mustang\",\n",
        "  \"year\": 1964\n",
        "}\n",
        "thisdict[\"year\"] = 2018"
      ],
      "metadata": {
        "id": "AbAAdpc3o1vd"
      },
      "execution_count": null,
      "outputs": []
    },
    {
      "cell_type": "markdown",
      "source": [
        " 2.5.4. Delete the Dictionary (All Methods)"
      ],
      "metadata": {
        "id": "BTODF0wApCY5"
      }
    },
    {
      "cell_type": "markdown",
      "source": [
        "The del keyword\n",
        "\n",
        "1.   clear()\n",
        "2.   pop()\n",
        "3.   popitem()\n",
        "4.   del()"
      ],
      "metadata": {
        "id": "OfMEZZFFpVwn"
      }
    },
    {
      "cell_type": "code",
      "source": [
        "thisdict = {\n",
        "  \"brand\": \"Ford\",\n",
        "  \"model\": \"Mustang\",\n",
        "  \"year\": 1964\n",
        "}\n",
        "thisdict.clear()\n",
        "print(thisdict)"
      ],
      "metadata": {
        "colab": {
          "base_uri": "https://localhost:8080/"
        },
        "id": "npdEKJLRpqAf",
        "outputId": "cdc39bf0-911e-4c95-bdb6-1158c3890f98"
      },
      "execution_count": null,
      "outputs": [
        {
          "output_type": "stream",
          "name": "stdout",
          "text": [
            "{}\n"
          ]
        }
      ]
    },
    {
      "cell_type": "code",
      "source": [
        "thisdict = {\n",
        "  \"brand\": \"Ford\",\n",
        "  \"model\": \"Mustang\",\n",
        "  \"year\": 1964\n",
        "}\n",
        "thisdict.pop(\"model\")\n",
        "print(thisdict)"
      ],
      "metadata": {
        "colab": {
          "base_uri": "https://localhost:8080/"
        },
        "id": "LPVUCl07py1v",
        "outputId": "279ce8c1-3814-4bd6-d863-a4fd2cbff8fd"
      },
      "execution_count": null,
      "outputs": [
        {
          "output_type": "stream",
          "name": "stdout",
          "text": [
            "{'brand': 'Ford', 'year': 1964}\n"
          ]
        }
      ]
    },
    {
      "cell_type": "code",
      "source": [
        "thisdict = {\n",
        "  \"brand\": \"Ford\",\n",
        "  \"model\": \"Mustang\",\n",
        "  \"year\": 1964\n",
        "}\n",
        "thisdict.popitem()\n",
        "print(thisdict)\n"
      ],
      "metadata": {
        "id": "8tm4Kpk9p7U3"
      },
      "execution_count": null,
      "outputs": []
    },
    {
      "cell_type": "code",
      "source": [
        "thisdict = {\n",
        "  \"brand\": \"Ford\",\n",
        "  \"model\": \"Mustang\",\n",
        "  \"year\": 1964\n",
        "}\n",
        "del thisdict[\"model\"]\n",
        "print(thisdict)"
      ],
      "metadata": {
        "id": "60w6wvLmp-OH"
      },
      "execution_count": null,
      "outputs": []
    },
    {
      "cell_type": "markdown",
      "source": [
        " 2.5.5. Length of Dictionary"
      ],
      "metadata": {
        "id": "hPLv3hBgqlxu"
      }
    },
    {
      "cell_type": "code",
      "source": [
        "\n",
        "dict1 ={'Name':'Steve', 'Age':30, 'Designation':'Programmer'}\n",
        "\n",
        "print(\"Dictionary:\", dict1)\n",
        "print(\"Length of dictionary:\", len(dict1))"
      ],
      "metadata": {
        "colab": {
          "base_uri": "https://localhost:8080/"
        },
        "id": "5ixmwmALqm0g",
        "outputId": "5da843bb-27a8-4d60-b803-fd4a9422a773"
      },
      "execution_count": null,
      "outputs": [
        {
          "output_type": "stream",
          "name": "stdout",
          "text": [
            "Dictionary: {'Name': 'Steve', 'Age': 30, 'Designation': 'Programmer'}\n",
            "Length of dictionary: 3\n"
          ]
        }
      ]
    },
    {
      "cell_type": "markdown",
      "source": [
        "# **2.6 Tuples**"
      ],
      "metadata": {
        "id": "mB7OE4uVqyo2"
      }
    },
    {
      "cell_type": "markdown",
      "source": [
        "Tuples are used to store multiple items in a single variable.\n",
        "\n",
        "Tuple is one of 4 built-in data types in Python used to store collections of data, the other 3 are List, Set, and Dictionary, all with different qualities and usage.\n",
        "\n",
        "A tuple is a collection which is ordered and unchangeable."
      ],
      "metadata": {
        "id": "tPX_UDUcq56H"
      }
    },
    {
      "cell_type": "markdown",
      "source": [
        " 2.6.1. Create a Tuples"
      ],
      "metadata": {
        "id": "hebkXLi6q_QF"
      }
    },
    {
      "cell_type": "code",
      "source": [
        "thistuple = (\"apple\", \"banana\", \"cherry\")\n",
        "print(thistuple)"
      ],
      "metadata": {
        "id": "1p88QrQ3rBwu"
      },
      "execution_count": null,
      "outputs": []
    },
    {
      "cell_type": "markdown",
      "source": [
        " 2.6.2. Access the value of Tuples"
      ],
      "metadata": {
        "id": "J_-IcLgPrB8H"
      }
    },
    {
      "cell_type": "code",
      "source": [
        "thistuple = (\"apple\", \"banana\", \"cherry\")\n",
        "print(thistuple[1])"
      ],
      "metadata": {
        "id": "NGJkDagvrCIO"
      },
      "execution_count": null,
      "outputs": []
    },
    {
      "cell_type": "markdown",
      "source": [
        " 2.6.3. Update the Tuples"
      ],
      "metadata": {
        "id": "VplFwSvgrCT_"
      }
    },
    {
      "cell_type": "code",
      "source": [
        "x = (\"apple\", \"banana\", \"cherry\")\n",
        "y = list(x)\n",
        "y[1] = \"kiwi\"\n",
        "x = tuple(y)\n",
        "print(x)"
      ],
      "metadata": {
        "id": "yDREUWacrCg-"
      },
      "execution_count": null,
      "outputs": []
    },
    {
      "cell_type": "markdown",
      "source": [
        " 2.6.4. Delete the Tuples"
      ],
      "metadata": {
        "id": "rvRS9CHGrCtt"
      }
    },
    {
      "cell_type": "code",
      "source": [
        "thistuple = (\"apple\", \"banana\", \"cherry\")\n",
        "del thistuple\n",
        "print(thistuple)"
      ],
      "metadata": {
        "id": "ydMjA_vcraJW"
      },
      "execution_count": null,
      "outputs": []
    },
    {
      "cell_type": "markdown",
      "source": [
        "2.6.5 Length of Tuple"
      ],
      "metadata": {
        "id": "B1Ux8yA7sAXV"
      }
    },
    {
      "cell_type": "code",
      "source": [
        "thistuple = (\"apple\", \"banana\", \"cherry\")\n",
        "print(len(thistuple))"
      ],
      "metadata": {
        "id": "Pl63nW_LsA7s"
      },
      "execution_count": null,
      "outputs": []
    },
    {
      "cell_type": "markdown",
      "source": [
        "# **2.7 Sets**"
      ],
      "metadata": {
        "id": "a91cV8dQsF5i"
      }
    },
    {
      "cell_type": "markdown",
      "source": [
        "Sets are used to store multiple items in a single variable.\n",
        "Set is one of 4 built-in data types in Python used to store collections of data, the other 3 are List, Tuple, and Dictionary, all with different qualities and usage."
      ],
      "metadata": {
        "id": "ab03ns9LsPOj"
      }
    },
    {
      "cell_type": "markdown",
      "source": [
        " 2.7.1. Create a Sets"
      ],
      "metadata": {
        "id": "F0pxRTpQsRa7"
      }
    },
    {
      "cell_type": "code",
      "source": [
        "thisset = {\"apple\", \"banana\", \"cherry\"}\n",
        "print(thisset)\n"
      ],
      "metadata": {
        "id": "KNZocoL-sOzE"
      },
      "execution_count": null,
      "outputs": []
    },
    {
      "cell_type": "markdown",
      "source": [
        " 2.7.2. Access the items of Sets\n"
      ],
      "metadata": {
        "id": "iZE5pVJIsfEO"
      }
    },
    {
      "cell_type": "code",
      "source": [
        "thisset = {\"apple\", \"banana\", \"cherry\"}\n",
        "\n",
        "for x in thisset:\n",
        "  print(x)"
      ],
      "metadata": {
        "id": "-lwbyW9sshLf"
      },
      "execution_count": null,
      "outputs": []
    },
    {
      "cell_type": "markdown",
      "source": [
        " 2.7.3. Add and Update items in Sets\n"
      ],
      "metadata": {
        "id": "PuxJMglcspwc"
      }
    },
    {
      "cell_type": "code",
      "source": [
        "thisset = {\"apple\", \"banana\", \"cherry\"}\n",
        "\n",
        "thisset.add(\"orange\")\n",
        "\n",
        "print(thisset)\n"
      ],
      "metadata": {
        "id": "J49u4ewCsr4M"
      },
      "execution_count": null,
      "outputs": []
    },
    {
      "cell_type": "code",
      "source": [
        "thisset = {\"apple\", \"banana\", \"cherry\"}\n",
        "mylist = [\"kiwi\", \"orange\"]\n",
        "\n",
        "thisset.update(mylist)\n",
        "\n",
        "print(thisset)"
      ],
      "metadata": {
        "id": "y1znh9YzsvOU"
      },
      "execution_count": null,
      "outputs": []
    },
    {
      "cell_type": "markdown",
      "source": [
        "2.7.4. Delete the Sets"
      ],
      "metadata": {
        "id": "slBfHvjzs1aQ"
      }
    },
    {
      "cell_type": "code",
      "source": [
        "thisset = {\"apple\", \"banana\", \"cherry\"}\n",
        "\n",
        "thisset.remove(\"banana\")\n",
        "\n",
        "print(thisset)"
      ],
      "metadata": {
        "id": "1mrNH_mBs3lY"
      },
      "execution_count": null,
      "outputs": []
    },
    {
      "cell_type": "markdown",
      "source": [
        "# **3. Operators**"
      ],
      "metadata": {
        "id": "rXvln6y0s6PP"
      }
    },
    {
      "cell_type": "markdown",
      "source": [
        "Operators are used to perform operations on variables and values."
      ],
      "metadata": {
        "id": "CFeNeHa0s9Jw"
      }
    },
    {
      "cell_type": "markdown",
      "source": [
        " 3.1. Arithmetic Operators\n"
      ],
      "metadata": {
        "id": "xMlgeqS8tOvi"
      }
    },
    {
      "cell_type": "code",
      "source": [
        "print((6 + 3) - (6 + 3))\n"
      ],
      "metadata": {
        "id": "AnIit4zdtQja"
      },
      "execution_count": null,
      "outputs": []
    },
    {
      "cell_type": "code",
      "source": [
        "print(100 + 5 * 3)\n"
      ],
      "metadata": {
        "id": "jxgkre-HtVFy"
      },
      "execution_count": null,
      "outputs": []
    },
    {
      "cell_type": "code",
      "source": [
        "print(5 + 4 - 7 + 3)\n"
      ],
      "metadata": {
        "colab": {
          "base_uri": "https://localhost:8080/"
        },
        "id": "FxN8sJpatYbb",
        "outputId": "a8724aea-ac22-44c2-b67d-5f30c1120370"
      },
      "execution_count": null,
      "outputs": [
        {
          "output_type": "stream",
          "name": "stdout",
          "text": [
            "5\n"
          ]
        }
      ]
    },
    {
      "cell_type": "markdown",
      "source": [
        " 3.2. Comarison Operators\n"
      ],
      "metadata": {
        "id": "wcjWxZBotaVS"
      }
    },
    {
      "cell_type": "code",
      "source": [
        "x = 5\n",
        "y = 3\n",
        "\n",
        "print(x == y)"
      ],
      "metadata": {
        "id": "zC9coEOGtcYT"
      },
      "execution_count": null,
      "outputs": []
    },
    {
      "cell_type": "code",
      "source": [
        "x = 5\n",
        "y = 3\n",
        "\n",
        "print(x != y)"
      ],
      "metadata": {
        "id": "fqpSpd7hti7L"
      },
      "execution_count": null,
      "outputs": []
    },
    {
      "cell_type": "code",
      "source": [
        "x = 5\n",
        "y = 3\n",
        "\n",
        "print(x > y)"
      ],
      "metadata": {
        "id": "rDrn4myytooU"
      },
      "execution_count": null,
      "outputs": []
    },
    {
      "cell_type": "markdown",
      "source": [
        " 3.3. Logical Operators"
      ],
      "metadata": {
        "id": "fbMvmliFtr4H"
      }
    },
    {
      "cell_type": "code",
      "source": [
        "x = 5\n",
        "\n",
        "print(x > 3 and x < 10)"
      ],
      "metadata": {
        "id": "4FFC7cP5tt3f"
      },
      "execution_count": null,
      "outputs": []
    },
    {
      "cell_type": "code",
      "source": [
        "x = 5\n",
        "\n",
        "print(x > 3 or x < 4)"
      ],
      "metadata": {
        "id": "zesTmJaDtytH"
      },
      "execution_count": null,
      "outputs": []
    },
    {
      "cell_type": "code",
      "source": [
        "x = 5\n",
        "\n",
        "print(not(x > 3 and x < 10))"
      ],
      "metadata": {
        "id": "lbM7GNjzt1xA"
      },
      "execution_count": null,
      "outputs": []
    },
    {
      "cell_type": "markdown",
      "source": [
        " 3.4. Assignment Operators\n"
      ],
      "metadata": {
        "id": "5Pg11A55t868"
      }
    },
    {
      "cell_type": "code",
      "source": [
        "x = 5\n",
        "\n",
        "print(x)\n"
      ],
      "metadata": {
        "id": "tjjXlCWTt9yV"
      },
      "execution_count": null,
      "outputs": []
    },
    {
      "cell_type": "code",
      "source": [
        "x = 5\n",
        "\n",
        "x += 3\n",
        "\n",
        "print(x)"
      ],
      "metadata": {
        "id": "tzFL0_y-uEyl"
      },
      "execution_count": null,
      "outputs": []
    },
    {
      "cell_type": "code",
      "source": [
        "x = 5\n",
        "\n",
        "x -= 3\n",
        "\n",
        "print(x)\n"
      ],
      "metadata": {
        "id": "OwQHuAq8uHkd"
      },
      "execution_count": null,
      "outputs": []
    },
    {
      "cell_type": "markdown",
      "source": [
        "# **4. Conditional statements**"
      ],
      "metadata": {
        "id": "MbBrIfAWzWiO"
      }
    },
    {
      "cell_type": "markdown",
      "source": [
        " 4.1. If statement\n"
      ],
      "metadata": {
        "id": "4VZzPNxbz1tk"
      }
    },
    {
      "cell_type": "code",
      "source": [
        "a = 33\n",
        "b = 200\n",
        "if b > a:\n",
        "  print(\"b is greater than a\")\n"
      ],
      "metadata": {
        "id": "7yLB7riEzpno"
      },
      "execution_count": null,
      "outputs": []
    },
    {
      "cell_type": "markdown",
      "source": [
        " 4.2. if-else statement"
      ],
      "metadata": {
        "id": "Xwsh2wMJz5DT"
      }
    },
    {
      "cell_type": "code",
      "source": [
        "a = 33\n",
        "b = 33\n",
        "if b > a:\n",
        "  print(\"b is greater than a\")\n",
        "elif a == b:\n",
        "  print(\"a and b are equal\")"
      ],
      "metadata": {
        "id": "eCOlyRMIzs9C"
      },
      "execution_count": null,
      "outputs": []
    },
    {
      "cell_type": "markdown",
      "source": [
        " 4.3. if-else-if statement (Elif)"
      ],
      "metadata": {
        "id": "HjvPR137z8I8"
      }
    },
    {
      "cell_type": "code",
      "source": [
        "a = 200\n",
        "b = 33\n",
        "if b > a:\n",
        "  print(\"b is greater than a\")\n",
        "elif a == b:\n",
        "  print(\"a and b are equal\")\n",
        "else:\n",
        "  print(\"a is greater than b\")"
      ],
      "metadata": {
        "id": "F6yfjxAbzw_A"
      },
      "execution_count": null,
      "outputs": []
    },
    {
      "cell_type": "code",
      "source": [
        "a = 200\n",
        "b = 33\n",
        "if b > a:\n",
        "  print(\"b is greater than a\")\n",
        "else:\n",
        "  print(\"b is not greater than a\")\n"
      ],
      "metadata": {
        "id": "lbB9mo5-zy4c"
      },
      "execution_count": null,
      "outputs": []
    },
    {
      "cell_type": "markdown",
      "source": [
        "# **5. Loops**"
      ],
      "metadata": {
        "id": "Vu3-WFirzzm0"
      }
    },
    {
      "cell_type": "markdown",
      "source": [
        " 5.1. For loop"
      ],
      "metadata": {
        "id": "v71B1Hu40JNe"
      }
    },
    {
      "cell_type": "code",
      "source": [
        "fruits = [\"apple\", \"banana\", \"cherry\"]\n",
        "for x in fruits:\n",
        "  print(x)"
      ],
      "metadata": {
        "id": "Q0ekzkev0LI_"
      },
      "execution_count": null,
      "outputs": []
    },
    {
      "cell_type": "markdown",
      "source": [
        " 5.2. Break statement\n"
      ],
      "metadata": {
        "id": "alTRV9dx0Q0J"
      }
    },
    {
      "cell_type": "code",
      "source": [
        "fruits = [\"apple\", \"banana\", \"cherry\"]\n",
        "for x in fruits:\n",
        "  print(x)\n",
        "  if x == \"banana\":\n",
        "    break"
      ],
      "metadata": {
        "id": "HuOpAQxz0Rbx"
      },
      "execution_count": null,
      "outputs": []
    },
    {
      "cell_type": "markdown",
      "source": [
        " 5.3. Continue statement\n"
      ],
      "metadata": {
        "id": "GiXjcKSs0THi"
      }
    },
    {
      "cell_type": "code",
      "source": [
        "fruits = [\"apple\", \"banana\", \"cherry\"]\n",
        "for x in fruits:\n",
        "  if x == \"banana\":\n",
        "    continue\n",
        "  print(x)"
      ],
      "metadata": {
        "id": "vaoPWsE60VGS"
      },
      "execution_count": null,
      "outputs": []
    },
    {
      "cell_type": "markdown",
      "source": [
        " 5.4. While loop\n"
      ],
      "metadata": {
        "id": "nDCO24u00Xwp"
      }
    },
    {
      "cell_type": "code",
      "source": [
        "i = 1\n",
        "while i < 6:\n",
        "  print(i)\n",
        "  if i == 3:\n",
        "    break\n",
        "  i += 1"
      ],
      "metadata": {
        "id": "s35DAaDC0Zm6"
      },
      "execution_count": null,
      "outputs": []
    },
    {
      "cell_type": "markdown",
      "source": [
        " 5.5. Nested loops\n"
      ],
      "metadata": {
        "id": "4Sr54Mvz0dt6"
      }
    },
    {
      "cell_type": "code",
      "source": [
        "i = 0\n",
        "while i < 6:\n",
        "  i += 1\n",
        "  if i == 3:\n",
        "    continue\n",
        "  print(i)"
      ],
      "metadata": {
        "id": "CzfI_FG30fQL"
      },
      "execution_count": null,
      "outputs": []
    },
    {
      "cell_type": "markdown",
      "source": [
        "# **6. Functions**"
      ],
      "metadata": {
        "id": "nR5Ol6Zr0kq7"
      }
    },
    {
      "cell_type": "markdown",
      "source": [
        " 6.1. Create a Function\n"
      ],
      "metadata": {
        "id": "GSCarrXE0pxr"
      }
    },
    {
      "cell_type": "code",
      "source": [
        "def my_function():\n",
        "  print(\"Hello from a function\")\n"
      ],
      "metadata": {
        "id": "M73x1nry0rpr"
      },
      "execution_count": null,
      "outputs": []
    },
    {
      "cell_type": "markdown",
      "source": [
        " 6.2. Calling a Function\n"
      ],
      "metadata": {
        "id": "Pts-MlF20r1D"
      }
    },
    {
      "cell_type": "code",
      "source": [
        "def my_function():\n",
        "  print(\"Hello from a function\")\n",
        "\n",
        "my_function()"
      ],
      "metadata": {
        "id": "NHYY290H0tXv"
      },
      "execution_count": null,
      "outputs": []
    },
    {
      "cell_type": "markdown",
      "source": [
        " 6.3. Parameters in a Function\n"
      ],
      "metadata": {
        "id": "uzrCUOp80tnA"
      }
    },
    {
      "cell_type": "code",
      "source": [
        "def my_function(food):\n",
        "  for x in food:\n",
        "    print(x)\n",
        "\n",
        "fruits = [\"apple\", \"banana\", \"cherry\"]\n",
        "\n",
        "my_function(fruits)"
      ],
      "metadata": {
        "id": "tAm22Gdf0vIP"
      },
      "execution_count": null,
      "outputs": []
    },
    {
      "cell_type": "markdown",
      "source": [
        " 6.4. Default parameter in Function\n"
      ],
      "metadata": {
        "id": "Da6GLrPC0vUP"
      }
    },
    {
      "cell_type": "code",
      "source": [
        "def my_function(country = \"Norway\"):\n",
        "  print(\"I am from \" + country)\n",
        "\n",
        "my_function(\"Sweden\")\n",
        "my_function(\"India\")\n",
        "my_function()\n",
        "my_function(\"Brazil\")"
      ],
      "metadata": {
        "id": "EhVkylju0vhY"
      },
      "execution_count": null,
      "outputs": []
    },
    {
      "cell_type": "markdown",
      "source": [
        " 6.5. Return in Function\n"
      ],
      "metadata": {
        "id": "rngWnupt0ypY"
      }
    },
    {
      "cell_type": "code",
      "source": [
        "def my_function(x):\n",
        "  return 5 * x\n",
        "\n",
        "print(my_function(3))\n",
        "print(my_function(5))\n",
        "print(my_function(9))\n"
      ],
      "metadata": {
        "id": "kNhC8FeD008w"
      },
      "execution_count": null,
      "outputs": []
    },
    {
      "cell_type": "markdown",
      "source": [
        "# **7. Lambda Functions**"
      ],
      "metadata": {
        "id": "6dFTYyQE1L6K"
      }
    },
    {
      "cell_type": "markdown",
      "source": [
        " 7.1. Syntax of Lambda Function"
      ],
      "metadata": {
        "id": "yReWtSXs1N6R"
      }
    },
    {
      "cell_type": "code",
      "source": [
        "x = lambda a : a + 10\n",
        "print(x(5))\n"
      ],
      "metadata": {
        "id": "AvgwUeut1P4i"
      },
      "execution_count": null,
      "outputs": []
    },
    {
      "cell_type": "markdown",
      "source": [
        " 7.2. Map()\n"
      ],
      "metadata": {
        "id": "aS7Bz20e1QBR"
      }
    },
    {
      "cell_type": "code",
      "source": [
        "my_pets = ['alfred', 'tabitha', 'william', 'arla']\n",
        "uppered_pets = []\n",
        "\n",
        "for pet in my_pets:\n",
        "    pet_ = pet.upper()\n",
        "    uppered_pets.append(pet_)\n",
        "\n",
        "print(uppered_pets)"
      ],
      "metadata": {
        "id": "CfSwWL3Y1R7R"
      },
      "execution_count": null,
      "outputs": []
    },
    {
      "cell_type": "markdown",
      "source": [
        " 7.3. filter()\n"
      ],
      "metadata": {
        "id": "zG2M_WuN1SFp"
      }
    },
    {
      "cell_type": "code",
      "source": [
        "scores = [66, 90, 68, 59, 76, 60, 88, 74, 81, 65]\n",
        "\n",
        "def is_A_student(score):\n",
        "    return score > 75\n",
        "\n",
        "over_75 = list(filter(is_A_student, scores))\n",
        "\n",
        "print(over_75)"
      ],
      "metadata": {
        "id": "AKwEC2ET1T1x"
      },
      "execution_count": null,
      "outputs": []
    },
    {
      "cell_type": "markdown",
      "source": [
        "7.4. Why, When and where it is used?\n",
        "\n"
      ],
      "metadata": {
        "id": "HPhyY77g1UBB"
      }
    },
    {
      "cell_type": "markdown",
      "source": [
        "Where func is the function on which each element in iterables (as many as they are) would be applied on. Notice the asterisk(*) on iterables? It means there can be as many iterables as possible, in so far func has that exact number as required input arguments. While map() passes each element in the iterable through a function and returns the result of all elements having passed through the function, filter(), first of all, requires the function to return boolean values (true or false) and then passes each element in the iterable through the function, \"filtering\" away those that are false."
      ],
      "metadata": {
        "id": "f-3uw-sK12gI"
      }
    },
    {
      "cell_type": "markdown",
      "source": [
        "# **8. Arrays**"
      ],
      "metadata": {
        "id": "uDSyULhl18N6"
      }
    },
    {
      "cell_type": "markdown",
      "source": [
        " 8.1. Create, Access and Update Array"
      ],
      "metadata": {
        "id": "NCywdvxM1_tq"
      }
    },
    {
      "cell_type": "code",
      "source": [
        "cars = [\"Ford\", \"Volvo\", \"BMW\"]\n"
      ],
      "metadata": {
        "id": "heaK5oq82Cqx"
      },
      "execution_count": null,
      "outputs": []
    },
    {
      "cell_type": "code",
      "source": [
        "x = cars[0]\n"
      ],
      "metadata": {
        "id": "HY_DN7jH2JoU"
      },
      "execution_count": null,
      "outputs": []
    },
    {
      "cell_type": "code",
      "source": [
        "cars[0] = \"Toyota\"\n"
      ],
      "metadata": {
        "id": "OAtSH9G62NLX"
      },
      "execution_count": null,
      "outputs": []
    },
    {
      "cell_type": "code",
      "source": [
        "cars = [\"Ford\", \"Volvo\", \"BMW\"]\n",
        "\n",
        "cars.pop(1)\n",
        "\n",
        "print(cars)"
      ],
      "metadata": {
        "id": "K0y1MSpd2SJr"
      },
      "execution_count": null,
      "outputs": []
    },
    {
      "cell_type": "markdown",
      "source": [
        "# **9. Class and objects**"
      ],
      "metadata": {
        "id": "0_g-9DwF2Yyd"
      }
    },
    {
      "cell_type": "markdown",
      "source": [
        " 9.1. Create class and objects\n"
      ],
      "metadata": {
        "id": "dvQb4RT-2chE"
      }
    },
    {
      "cell_type": "code",
      "source": [
        "p1 = MyClass()\n",
        "print(p1.x"
      ],
      "metadata": {
        "id": "ZjdC2R6d2fIl"
      },
      "execution_count": null,
      "outputs": []
    },
    {
      "cell_type": "code",
      "source": [
        "class Person:\n",
        "  def __init__(self, name, age):\n",
        "    self.name = name\n",
        "    self.age = age\n",
        "\n",
        "p1 = Person(\"John\", 36)\n",
        "\n",
        "print(p1.name)\n",
        "print(p1.age)"
      ],
      "metadata": {
        "id": "ll6HjErF2ipn"
      },
      "execution_count": null,
      "outputs": []
    },
    {
      "cell_type": "markdown",
      "source": [
        "# **10. File I/O**"
      ],
      "metadata": {
        "id": "Jsec7-nb2mnv"
      }
    },
    {
      "cell_type": "markdown",
      "source": [
        " 10.1. Reading input from keyboard\n"
      ],
      "metadata": {
        "id": "CN275jPu2qi_"
      }
    },
    {
      "cell_type": "code",
      "source": [
        "str = raw_input(\"Enter your input: \")\n",
        "print\"Received input is : \", str"
      ],
      "metadata": {
        "id": "HqHEpijV22kP"
      },
      "execution_count": null,
      "outputs": []
    },
    {
      "cell_type": "code",
      "source": [
        "str = input(\"Enter your input: \")\n",
        "print\"Received input is : \", str\n"
      ],
      "metadata": {
        "id": "6t8CFI5K297_"
      },
      "execution_count": null,
      "outputs": []
    },
    {
      "cell_type": "markdown",
      "source": [
        " 10.2.I/O from text file"
      ],
      "metadata": {
        "id": "GkoE3g363Hpx"
      }
    },
    {
      "cell_type": "markdown",
      "source": [
        " 10.2.1. Create a text file"
      ],
      "metadata": {
        "id": "tRZtMdex3PEy"
      }
    },
    {
      "cell_type": "code",
      "source": [
        "with open('readme.txt', 'w') as f:\n",
        "    f.write('Create a new text file!')"
      ],
      "metadata": {
        "id": "UMbX3-Sn3QDi"
      },
      "execution_count": null,
      "outputs": []
    },
    {
      "cell_type": "markdown",
      "source": [
        " 10.2.2. Reading a file"
      ],
      "metadata": {
        "id": "0l2ycx3A3w3s"
      }
    },
    {
      "cell_type": "code",
      "source": [
        "file1 = open(\"myfile.txt\",\"w\")\n",
        "L = [\"This is University Of Lahore \\n\",\"This is Pakistan \\n\",\"This is AI LAB \\n\"]\n",
        "file1.writelines(L)\n",
        "file1.close()\n",
        "file1 = open(\"myfile.txt\",\"a\")#append mode\n",
        "file1.write(\"Today \\n\")\n",
        "file1.close()\n",
        "file1 = open(\"myfile.txt\",\"r\")\n",
        "print(\"Output of Readlines after appending\")\n",
        "print(file1.readlines())\n",
        "print()\n",
        "file1.close()\n",
        "file1 = open(\"myfile.txt\",\"w\")#write mode\n",
        "file1.write(\"Tomorrow \\n\")\n",
        "file1.close()\n",
        "file1 = open(\"myfile.txt\",\"r\")\n",
        "print(\"Output of Readlines after writing\")\n",
        "print(file1.readlines())\n",
        "print()\n",
        "file1.close()"
      ],
      "metadata": {
        "colab": {
          "base_uri": "https://localhost:8080/"
        },
        "id": "hcB7fy9033ps",
        "outputId": "2d50d363-61ea-4718-8300-4e663c9a7d70"
      },
      "execution_count": null,
      "outputs": [
        {
          "output_type": "stream",
          "name": "stdout",
          "text": [
            "Output of Readlines after appending\n",
            "['This is University Of Lahore \\n', 'This is Pakistan \\n', 'This is AI LAB \\n', 'Today \\n']\n",
            "\n",
            "Output of Readlines after writing\n",
            "['Tomorrow \\n']\n",
            "\n"
          ]
        }
      ]
    },
    {
      "cell_type": "markdown",
      "source": [
        " 10.2.3. write into a file\n"
      ],
      "metadata": {
        "id": "kX5imXrA4Oce"
      }
    },
    {
      "cell_type": "code",
      "source": [
        "file1 = open(\"myfile.txt\",\"w\")\n",
        "L = [\"This is University Of Lahore \\n\",\"This is Pakistan \\n\",\"This is AI LAB \\n\"]\n",
        "file1.writelines(L)\n",
        "file1.close()\n",
        "file1 = open(\"myfile.txt\",\"a\")#append mode\n",
        "file1.write(\"Today \\n\")\n",
        "file1.close()\n",
        "file1 = open(\"myfile.txt\",\"r\")\n",
        "print(\"Output of Readlines after appending\")\n",
        "print(file1.readlines())\n",
        "print()\n",
        "file1.close()\n",
        "file1 = open(\"myfile.txt\",\"w\")#write mode\n",
        "file1.write(\"Tomorrow \\n\")\n",
        "file1.close()\n",
        "file1 = open(\"myfile.txt\",\"r\")\n",
        "print(\"Output of Readlines after writing\")\n",
        "print(file1.readlines())\n",
        "print()\n",
        "file1.close()"
      ],
      "metadata": {
        "id": "yKrmOI1b4QWm"
      },
      "execution_count": null,
      "outputs": []
    },
    {
      "cell_type": "markdown",
      "source": [
        " 10.3. File position\n"
      ],
      "metadata": {
        "id": "Ax83ddOI4QmQ"
      }
    },
    {
      "cell_type": "code",
      "source": [
        "file1 = open(\"myfile.txt\",\"w\")"
      ],
      "metadata": {
        "id": "PpwXLmpR4TGm"
      },
      "execution_count": null,
      "outputs": []
    },
    {
      "cell_type": "markdown",
      "source": [
        " 10.4. Why, When and where File I/O is used?"
      ],
      "metadata": {
        "id": "VO5rqgHz4SU2"
      }
    },
    {
      "cell_type": "markdown",
      "source": [
        "Python - FileIO. Python's built-in functions input() and print() perform read/write operations with standard IO streams. The input() function reads text into memory variables from keyboard which is defined as sys. stdin and the print() function send data to display device identified as sys."
      ],
      "metadata": {
        "id": "6FMuu_Y15T6w"
      }
    },
    {
      "cell_type": "markdown",
      "source": [
        "11. Pandas Library Introduction"
      ],
      "metadata": {
        "id": "oFZdtqY74Wv1"
      }
    },
    {
      "cell_type": "markdown",
      "source": [
        "Pandas is a Python library used for working with data sets.\n",
        "\n",
        "It has functions for analyzing, cleaning, exploring, and manipulating data.\n",
        "\n",
        "The name \"Pandas\" has a reference to both \"Panel Data\", and \"Python Data Analysis\" and was created by Wes McKinney in 2008.\n",
        "\n"
      ],
      "metadata": {
        "id": "-dV_bPjw4X1e"
      }
    },
    {
      "cell_type": "markdown",
      "source": [
        " 11.1. Read Dataset using Pandas\n"
      ],
      "metadata": {
        "id": "fVT17_pq4Y7N"
      }
    },
    {
      "cell_type": "markdown",
      "source": [
        "A simple way to store big data sets is to use CSV files (comma separated files).\n",
        "\n",
        "CSV files contains plain text and is a well know format that can be read by everyone including Pandas.\n",
        "\n",
        "In our examples we will be using a CSV file called 'data.csv'."
      ],
      "metadata": {
        "id": "_S8IYA6g5xWZ"
      }
    },
    {
      "cell_type": "code",
      "source": [
        "import pandas as pd\n",
        "\n",
        "df = pd.read_csv('data.csv')\n",
        "\n",
        "print(df.to_string())"
      ],
      "metadata": {
        "id": "x6ePNgAm4bAe"
      },
      "execution_count": null,
      "outputs": []
    },
    {
      "cell_type": "code",
      "source": [
        "import pandas as pd\n",
        "\n",
        "df = pd.read_csv('data.csv')\n",
        "\n",
        "print(df)"
      ],
      "metadata": {
        "id": "0FR6mJgr5u-J"
      },
      "execution_count": null,
      "outputs": []
    },
    {
      "cell_type": "markdown",
      "source": [
        " 11.2. Why, When and where it is used?\n"
      ],
      "metadata": {
        "id": "rHfhE95n4bMm"
      }
    },
    {
      "cell_type": "markdown",
      "source": [
        "Pandas is a Python library used for working with data sets.\n",
        "\n",
        "It has functions for analyzing, cleaning, exploring, and manipulating data."
      ],
      "metadata": {
        "id": "OikW_vTJ4c7O"
      }
    },
    {
      "cell_type": "markdown",
      "source": [
        "12. Series\n"
      ],
      "metadata": {
        "id": "AJog5AzD4g-W"
      }
    },
    {
      "cell_type": "markdown",
      "source": [
        "A Pandas Series is like a column in a table.\n",
        "\n",
        "It is a one-dimensional array holding data of any type."
      ],
      "metadata": {
        "id": "6gXQObkf6DTR"
      }
    },
    {
      "cell_type": "markdown",
      "source": [
        " 12.1. Create a series\n"
      ],
      "metadata": {
        "id": "ddbaYfNx4h2n"
      }
    },
    {
      "cell_type": "code",
      "source": [
        "import pandas as pd\n",
        "\n",
        "a = [1, 7, 2]\n",
        "\n",
        "myvar = pd.Series(a, index = [\"x\", \"y\", \"z\"])\n",
        "\n",
        "print(myvar)"
      ],
      "metadata": {
        "id": "H83h9xEq4ji2"
      },
      "execution_count": null,
      "outputs": []
    },
    {
      "cell_type": "markdown",
      "source": [
        " 12.2. From ndarray\n"
      ],
      "metadata": {
        "id": "LyW_6nv84jsm"
      }
    },
    {
      "cell_type": "code",
      "source": [
        "import pandas as pd\n",
        "\n",
        "calories = {\"day1\": 420, \"day2\": 380, \"day3\": 390}\n",
        "\n",
        "myvar = pd.Series(calories, index = [\"day1\", \"day2\"])\n",
        "\n",
        "print(myvar)"
      ],
      "metadata": {
        "id": "45q8cc3h4luH"
      },
      "execution_count": null,
      "outputs": []
    },
    {
      "cell_type": "markdown",
      "source": [
        " 12.3. From dict\n"
      ],
      "metadata": {
        "id": "_CsIk9Cw4l5v"
      }
    },
    {
      "cell_type": "code",
      "source": [
        "import pandas as pd\n",
        "\n",
        "data = {\n",
        "  \"calories\": [420, 380, 390],\n",
        "  \"duration\": [50, 40, 45]\n",
        "}\n",
        "\n",
        "myvar = pd.DataFrame(data)\n",
        "\n",
        "print(myvar)"
      ],
      "metadata": {
        "id": "enWNTgHv4n5u",
        "colab": {
          "base_uri": "https://localhost:8080/"
        },
        "outputId": "9283529f-4d85-4a18-de00-24309116c710"
      },
      "execution_count": null,
      "outputs": [
        {
          "output_type": "stream",
          "name": "stdout",
          "text": [
            "   calories  duration\n",
            "0       420        50\n",
            "1       380        40\n",
            "2       390        45\n"
          ]
        }
      ]
    },
    {
      "cell_type": "markdown",
      "source": [
        " 12.4. From Scalar Value\n"
      ],
      "metadata": {
        "id": "YtwGu2Qt6QRZ"
      }
    },
    {
      "cell_type": "markdown",
      "source": [
        " Scalar variable is a variable that contains a singular piece of data/information at a time. These variables are mostly immutable meaning you can not change the object once it has been created. A non-scalar variable like a list or array would connect one variable to many pieces of data/information and these types are mutable meaning we can change the data inside."
      ],
      "metadata": {
        "id": "jNORaJWR6imp"
      }
    },
    {
      "cell_type": "markdown",
      "source": [
        "12.5. Series is ndarray-like"
      ],
      "metadata": {
        "id": "CRXCwVMr6m2K"
      }
    },
    {
      "cell_type": "markdown",
      "source": [
        "Operations between Series automatically align the data based on label. Thus, you can write computations without giving consideration to whether the Series involved have the same labels."
      ],
      "metadata": {
        "id": "YvLc662GKMdZ"
      }
    },
    {
      "cell_type": "markdown",
      "source": [
        "12.6. Series is dict-like"
      ],
      "metadata": {
        "id": "jCthhKWGKTVN"
      }
    },
    {
      "cell_type": "markdown",
      "source": [
        "A Series is a one-dimensional labeled array that can hold any data type, similar to a Python dictionary. It is commonly used for data manipulation and analysis.\n",
        "\n"
      ],
      "metadata": {
        "id": "VmfjKgZi6pw6"
      }
    },
    {
      "cell_type": "code",
      "source": [
        "import pandas as pd\n",
        "\n",
        "data = {'apple': 3, 'banana': 5, 'cherry': 2}\n",
        "fruits = pd.Series(data)\n",
        "print(fruits)\n"
      ],
      "metadata": {
        "id": "lBSUqxE4J4iz"
      },
      "execution_count": null,
      "outputs": []
    },
    {
      "cell_type": "code",
      "source": [
        "apple     3\n",
        "banana    5\n",
        "cherry    2\n",
        "dtype: int64\n"
      ],
      "metadata": {
        "id": "DSkB30kMKjvS"
      },
      "execution_count": null,
      "outputs": []
    },
    {
      "cell_type": "code",
      "source": [
        "fruits1 = pd.Series({'apple': 3, 'banana': 5, 'cherry': 2})\n",
        "fruits2 = pd.Series({'apple': 2, 'banana': 4, 'cherry': 1})\n",
        "total_fruits = fruits1 + fruits2\n",
        "print(total_fruits)\n"
      ],
      "metadata": {
        "id": "lb3DoB37KneC"
      },
      "execution_count": null,
      "outputs": []
    },
    {
      "cell_type": "code",
      "source": [
        "apple     5\n",
        "banana    9\n",
        "cherry    3\n",
        "dtype: int64\n"
      ],
      "metadata": {
        "id": "vYo3Y3a1Kpm_"
      },
      "execution_count": null,
      "outputs": []
    },
    {
      "cell_type": "markdown",
      "source": [
        "12.7 Vectorized Operations and Label Alignment with Series\n"
      ],
      "metadata": {
        "id": "tkFXx-VVKqqI"
      }
    },
    {
      "cell_type": "markdown",
      "source": [
        "Series allows for vectorized operations, and the data alignment is based on labels.\n",
        "\n"
      ],
      "metadata": {
        "id": "2GvA69pBKtvO"
      }
    },
    {
      "cell_type": "code",
      "source": [
        "fruits1 = pd.Series({'apple': 3, 'banana': 5, 'cherry': 2})\n",
        "fruits2 = pd.Series({'banana': 4, 'cherry': 1, 'orange': 2})\n",
        "total_fruits = fruits1 + fruits2\n",
        "print(total_fruits)\n"
      ],
      "metadata": {
        "id": "sxBfkDaeKv3e"
      },
      "execution_count": null,
      "outputs": []
    },
    {
      "cell_type": "markdown",
      "source": [
        "12.8 Why, When, and Where Series is Used?\n"
      ],
      "metadata": {
        "id": "A1h3RV7FK2mq"
      }
    },
    {
      "cell_type": "markdown",
      "source": [
        "**Why:** Series are used to store and manipulate one-dimensional data with labeled indices, making data analysis and manipulation efficient and convenient.\n",
        "\n",
        "**When:** Use Series When dealing with data like time series, sensor data, or any dataset with labels. It's also a fundamental building block for DataFrames.\n",
        "Where: Series are widely used in data analysis, statistics, and machine learning, often as columns in DataFrames or as standalone data structures for quick data exploration."
      ],
      "metadata": {
        "id": "7W4XFn2PK3jN"
      }
    },
    {
      "cell_type": "markdown",
      "source": [
        "13 DataFrames\n"
      ],
      "metadata": {
        "id": "L5-MWJ6ELG5G"
      }
    },
    {
      "cell_type": "markdown",
      "source": [
        "DataFrames are two-dimensional tabular data structures, similar to spreadsheets, where you can store and manipulate data efficiently.\n",
        "\n"
      ],
      "metadata": {
        "id": "fQZQi4CwLJWR"
      }
    },
    {
      "cell_type": "markdown",
      "source": [
        "13.1 From Dict of Series or Dicts\n"
      ],
      "metadata": {
        "id": "E6FV3mvnLLVE"
      }
    },
    {
      "cell_type": "markdown",
      "source": [
        "You can create a DataFrame from a dictionary of Series or dictionaries.\n",
        "\n"
      ],
      "metadata": {
        "id": "FJOryRDoLL-0"
      }
    },
    {
      "cell_type": "code",
      "source": [
        "import pandas as pd\n",
        "\n",
        "data = {'Column1': pd.Series([1, 2, 3]),\n",
        "        'Column2': pd.Series([4, 5, 6])}\n",
        "df = pd.DataFrame(data)\n",
        "print(df)\n"
      ],
      "metadata": {
        "id": "pwa6L8FRLODx"
      },
      "execution_count": null,
      "outputs": []
    },
    {
      "cell_type": "markdown",
      "source": [
        "13.2 From Dict of ndarrays / Lists\n"
      ],
      "metadata": {
        "id": "xp1zMFrpLUVn"
      }
    },
    {
      "cell_type": "markdown",
      "source": [
        "You can create a DataFrame from a dictionary of NumPy arrays or lists.\n",
        "\n"
      ],
      "metadata": {
        "id": "4x1IM9o_LWgN"
      }
    },
    {
      "cell_type": "code",
      "source": [
        "import pandas as pd\n",
        "\n",
        "data = {'Column1': [1, 2, 3],\n",
        "        'Column2': [4, 5, 6]}\n",
        "df = pd.DataFrame(data)\n",
        "print(df)\n"
      ],
      "metadata": {
        "id": "VY4kZDHGLYcv"
      },
      "execution_count": null,
      "outputs": []
    },
    {
      "cell_type": "markdown",
      "source": [
        "13.3 From a List of Dicts\n"
      ],
      "metadata": {
        "id": "WpEvwoNHLesd"
      }
    },
    {
      "cell_type": "markdown",
      "source": [
        "You can create a DataFrame from a list of dictionaries.\n",
        "\n"
      ],
      "metadata": {
        "id": "AdVWqLshLgtd"
      }
    },
    {
      "cell_type": "code",
      "source": [
        "import pandas as pd\n",
        "\n",
        "data = [{'Column1': 1, 'Column2': 4},\n",
        "        {'Column1': 2, 'Column2': 5},\n",
        "        {'Column1': 3, 'Column2': 6}]\n",
        "df = pd.DataFrame(data)\n",
        "print(df)\n"
      ],
      "metadata": {
        "id": "8fhvK3M2Lh95"
      },
      "execution_count": null,
      "outputs": []
    },
    {
      "cell_type": "markdown",
      "source": [
        "13.4 From a Dict of Tuples\n"
      ],
      "metadata": {
        "id": "uUa5JvrILlRy"
      }
    },
    {
      "cell_type": "markdown",
      "source": [
        "You can create a Series from a dictionary of tuples where the keys are pairs.\n",
        "\n"
      ],
      "metadata": {
        "id": "UwIDcMuPL6R4"
      }
    },
    {
      "cell_type": "code",
      "source": [
        "import pandas as pd\n",
        "\n",
        "data = {('apple', 'quantity'): 3,\n",
        "        ('banana', 'quantity'): 2,\n",
        "        ('cherry', 'quantity'): 5}\n",
        "series = pd.Series(data)\n",
        "print(series)\n"
      ],
      "metadata": {
        "id": "jtMSRUMDL8Mq"
      },
      "execution_count": null,
      "outputs": []
    },
    {
      "cell_type": "markdown",
      "source": [
        "13.5 Alternate Constructors\n"
      ],
      "metadata": {
        "id": "kSLPb8fcL_PE"
      }
    },
    {
      "cell_type": "markdown",
      "source": [
        "DataFrames can be created from various sources, such as CSV, Excel, or SQL databases. Here's an example using the CSV file.\n",
        "\n"
      ],
      "metadata": {
        "id": "PK5rKx9YMCkq"
      }
    },
    {
      "cell_type": "code",
      "source": [
        "import pandas as pd\n",
        "\n",
        "# Create a DataFrame from a CSV file\n",
        "df = pd.read_csv('data.csv')\n",
        "print(df)\n"
      ],
      "metadata": {
        "id": "s2sSX9lmMFG0"
      },
      "execution_count": null,
      "outputs": []
    },
    {
      "cell_type": "markdown",
      "source": [
        "13.6 Column Selection, Addition, and Deletion\n"
      ],
      "metadata": {
        "id": "cE0ABqYHMLO9"
      }
    },
    {
      "cell_type": "markdown",
      "source": [
        "16.6.1 Column Selection\n"
      ],
      "metadata": {
        "id": "4DtSS2S8MMAb"
      }
    },
    {
      "cell_type": "markdown",
      "source": [
        "You can select a specific column using its name."
      ],
      "metadata": {
        "id": "sIVjGUPSMO4S"
      }
    },
    {
      "cell_type": "code",
      "source": [
        "import pandas as pd\n",
        "\n",
        "data = {'fruits': ['apple', 'banana', 'cherry'],\n",
        "        'quantity': [3, 2, 5]}\n",
        "df = pd.DataFrame(data)\n",
        "\n",
        "# Select the 'fruits' column\n",
        "fruits_column = df['fruits']\n",
        "print(fruits_column)\n"
      ],
      "metadata": {
        "id": "2KVn90qNMRY9"
      },
      "execution_count": null,
      "outputs": []
    },
    {
      "cell_type": "markdown",
      "source": [
        "16.6.2 Column Deletion\n"
      ],
      "metadata": {
        "id": "R2WYl93QMSBE"
      }
    },
    {
      "cell_type": "markdown",
      "source": [
        "You can delete a column from a DataFrame using the drop method."
      ],
      "metadata": {
        "id": "jj2t_KP9MVJX"
      }
    },
    {
      "cell_type": "code",
      "source": [
        "import pandas as pd\n",
        "\n",
        "data = {'fruits': ['apple', 'banana', 'cherry'],\n",
        "        'quantity': [3, 2, 5]}\n",
        "df = pd.DataFrame(data)\n",
        "\n",
        "# Delete the 'quantity' column\n",
        "df = df.drop('quantity', axis=1)\n",
        "print(df)\n"
      ],
      "metadata": {
        "id": "M_xessDBMX7I"
      },
      "execution_count": null,
      "outputs": []
    },
    {
      "cell_type": "markdown",
      "source": [
        "16.6.3 Column Insertion\n"
      ],
      "metadata": {
        "id": "A58z8pkPMbi5"
      }
    },
    {
      "cell_type": "markdown",
      "source": [
        "You can insert a new column into a DataFrame.\n",
        "\n"
      ],
      "metadata": {
        "id": "2ofhYGhxMdiD"
      }
    },
    {
      "cell_type": "code",
      "source": [
        "import pandas as pd\n",
        "\n",
        "data = {'fruits': ['apple', 'banana', 'cherry'],\n",
        "        'quantity': [3, 2, 5]}\n",
        "df = pd.DataFrame(data)\n",
        "\n",
        "# Insert a new 'color' column\n",
        "df['color'] = ['red', 'yellow', 'red']\n",
        "print(df)\n"
      ],
      "metadata": {
        "id": "ZoMnRS4QMfVC"
      },
      "execution_count": null,
      "outputs": []
    },
    {
      "cell_type": "markdown",
      "source": [
        "13.7 Indexing/Selection\n"
      ],
      "metadata": {
        "id": "JThDGIO3MiQY"
      }
    },
    {
      "cell_type": "markdown",
      "source": [
        "You can select rows and columns using various methods like loc and iloc.\n",
        "\n"
      ],
      "metadata": {
        "id": "OXOTBaXwMlhH"
      }
    },
    {
      "cell_type": "code",
      "source": [
        "import pandas as pd\n",
        "\n",
        "data = {'fruits': ['apple', 'banana', 'cherry'],\n",
        "        'quantity': [3, 2, 5]}\n",
        "df = pd.DataFrame(data)\n",
        "\n",
        "# Select the first row\n",
        "first_row = df.loc[0]\n",
        "print(first_row)\n"
      ],
      "metadata": {
        "id": "RvvzJ8I7MnD2"
      },
      "execution_count": null,
      "outputs": []
    },
    {
      "cell_type": "markdown",
      "source": [
        "13.8 Data Alignment and Arithmetic\n"
      ],
      "metadata": {
        "id": "-bXSIP-VMpRR"
      }
    },
    {
      "cell_type": "markdown",
      "source": [
        "You can perform element-wise arithmetic operations on DataFrames.\n",
        "\n"
      ],
      "metadata": {
        "id": "MLTUhoLjMrLd"
      }
    },
    {
      "cell_type": "code",
      "source": [
        "import pandas as pd\n",
        "\n",
        "data1 = {'fruits': ['apple', 'banana', 'cherry'],\n",
        "         'quantity': [3, 2, 5]}\n",
        "data2 = {'fruits': ['apple', 'banana', 'cherry'],\n",
        "         'price_per_unit': [1.2, 0.5, 0.8]}\n",
        "\n",
        "df1 = pd.DataFrame(data1)\n",
        "df2 = pd.DataFrame(data2)\n",
        "\n",
        "# Merge two DataFrames based on the 'fruits' column\n",
        "merged_df = df1.merge(df2, on='fruits')\n",
        "\n",
        "# Calculate total cost\n",
        "merged_df['total_cost'] = merged_df['quantity'] * merged_df['price_per_unit']\n",
        "print(merged_df)\n"
      ],
      "metadata": {
        "id": "oFbcAaqqMtFx"
      },
      "execution_count": null,
      "outputs": []
    },
    {
      "cell_type": "markdown",
      "source": [
        "13.9 Transposing\n"
      ],
      "metadata": {
        "id": "7NGYCO9XMwMm"
      }
    },
    {
      "cell_type": "markdown",
      "source": [
        "You can transpose a DataFrame to swap rows and columns.\n",
        "\n"
      ],
      "metadata": {
        "id": "LalOUxJKMyCq"
      }
    },
    {
      "cell_type": "code",
      "source": [
        "import pandas as pd\n",
        "\n",
        "data = {'fruits': ['apple', 'banana', 'cherry'],\n",
        "        'quantity': [3, 2, 5]}\n",
        "df = pd.DataFrame(data)\n",
        "\n",
        "# Transpose the DataFrame\n",
        "transposed_df = df.transpose()\n",
        "print(transposed_df)"
      ],
      "metadata": {
        "id": "qHrh6rRxMzsu"
      },
      "execution_count": null,
      "outputs": []
    },
    {
      "cell_type": "markdown",
      "source": [
        "13.10 Why, When, and Where DataFrames are Used?"
      ],
      "metadata": {
        "id": "o12VMWSrM2_v"
      }
    },
    {
      "cell_type": "markdown",
      "source": [
        "**Why:** DataFrames are used to represent and work with structured data, such as tabular data, where you have rows and columns with different data types.\n",
        "\n",
        "**When:** They are used when you need to perform data analysis, data cleaning, data manipulation, and visualization on structured data.\n",
        "\n",
        "**Where:** DataFrames are widely used in data science, machine learning, and data analysis tasks. They are a fundamental data structure in libraries like Pandas, which makes working with tabular data efficient and convenient."
      ],
      "metadata": {
        "id": "7jJJFAtBM64L"
      }
    },
    {
      "cell_type": "markdown",
      "source": [
        "# 14. Viewing Data\n",
        "14.1 Data Viewing Methods"
      ],
      "metadata": {
        "id": "z27bwEO_NAyT"
      }
    },
    {
      "cell_type": "markdown",
      "source": [
        "You can use various methods to view and inspect your DataFrame.\n",
        "\n"
      ],
      "metadata": {
        "id": "o3_AUA-ONGNT"
      }
    },
    {
      "cell_type": "code",
      "source": [
        "import pandas as pd\n",
        "\n",
        "data = {'fruits': ['apple', 'banana', 'cherry'],\n",
        "        'quantity': [3, 2, 5]}\n",
        "df = pd.DataFrame(data)\n",
        "\n",
        "# Display the first few rows of the DataFrame\n",
        "print(df.head())\n",
        "\n",
        "# Display basic statistics of numeric columns\n",
        "print(df.describe())\n",
        "\n",
        "# Check the data types of columns\n",
        "print(df.dtypes)\n"
      ],
      "metadata": {
        "id": "nL7hrhktNI8M"
      },
      "execution_count": null,
      "outputs": []
    }
  ]
}