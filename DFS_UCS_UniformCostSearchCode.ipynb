{
  "nbformat": 4,
  "nbformat_minor": 0,
  "metadata": {
    "colab": {
      "provenance": [],
      "authorship_tag": "ABX9TyMkBy8Xm1aqP8JTGO6cW1pX",
      "include_colab_link": true
    },
    "kernelspec": {
      "name": "python3",
      "display_name": "Python 3"
    },
    "language_info": {
      "name": "python"
    }
  },
  "cells": [
    {
      "cell_type": "markdown",
      "metadata": {
        "id": "view-in-github",
        "colab_type": "text"
      },
      "source": [
        "<a href=\"https://colab.research.google.com/github/muhammadalizkhan/Python_Fundamental/blob/main/DFS_UCS_UniformCostSearchCode.ipynb\" target=\"_parent\"><img src=\"https://colab.research.google.com/assets/colab-badge.svg\" alt=\"Open In Colab\"/></a>"
      ]
    },
    {
      "cell_type": "markdown",
      "source": [
        "# **DFS UCS Uniform Cost search code**"
      ],
      "metadata": {
        "id": "yy0xAJ70VTVU"
      }
    },
    {
      "cell_type": "code",
      "source": [
        "import heapq\n",
        "\n",
        "class Graph:\n",
        "    def __init__(self):\n",
        "        self.graph = {}\n",
        "\n",
        "    def add_edge(self, node, neighbor, cost):\n",
        "        if node not in self.graph:\n",
        "            self.graph[node] = []\n",
        "        self.graph[node].append((neighbor, cost))\n",
        "\n",
        "def ucs(graph, start, goal):\n",
        "    visited = set()\n",
        "    priority_queue = [(0, start)]\n",
        "    while priority_queue:\n",
        "        cost, current_node = heapq.heappop(priority_queue)\n",
        "\n",
        "        if current_node in visited:\n",
        "            continue\n",
        "\n",
        "        visited.add(current_node)\n",
        "\n",
        "        if current_node == goal:\n",
        "            return cost\n",
        "\n",
        "        for neighbor, neighbor_cost in graph[current_node]:\n",
        "            if neighbor not in visited:\n",
        "                new_cost = cost + neighbor_cost\n",
        "                heapq.heappush(priority_queue, (new_cost, neighbor))\n",
        "\n",
        "    return float('inf')\n",
        "\n",
        "if __name__ == \"__main__\":\n",
        "    g = Graph()\n",
        "    g.add_edge('A', 'B', 4)\n",
        "    g.add_edge('A', 'C', 2)\n",
        "    g.add_edge('B', 'C', 5)\n",
        "    g.add_edge('B', 'D', 10)\n",
        "    g.add_edge('C', 'D', 3)\n",
        "    g.add_edge('D', 'E', 7)\n",
        "    g.add_edge('E', 'A', 8)\n",
        "\n",
        "    start_node = 'A'\n",
        "    goal_node = 'D'\n",
        "\n",
        "    shortest_path_cost = ucs(g.graph, start_node, goal_node)\n",
        "\n",
        "    if shortest_path_cost != float('inf'):\n",
        "        print(f\"Shortest path cost from {start_node} to {goal_node} is {shortest_path_cost}\")\n",
        "    else:\n",
        "        print(f\"No path found from {start_node} to {goal_node}\")\n"
      ],
      "metadata": {
        "id": "Qmbs0XOwVcfl"
      },
      "execution_count": null,
      "outputs": []
    }
  ]
}