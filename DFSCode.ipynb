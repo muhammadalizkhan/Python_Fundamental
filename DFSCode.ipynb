{
  "nbformat": 4,
  "nbformat_minor": 0,
  "metadata": {
    "colab": {
      "provenance": [],
      "authorship_tag": "ABX9TyNRpKHNCXPT3uGHnkWJPT5u",
      "include_colab_link": true
    },
    "kernelspec": {
      "name": "python3",
      "display_name": "Python 3"
    },
    "language_info": {
      "name": "python"
    }
  },
  "cells": [
    {
      "cell_type": "markdown",
      "metadata": {
        "id": "view-in-github",
        "colab_type": "text"
      },
      "source": [
        "<a href=\"https://colab.research.google.com/github/muhammadalizkhan/Python_Fundamental/blob/main/DFSCode.ipynb\" target=\"_parent\"><img src=\"https://colab.research.google.com/assets/colab-badge.svg\" alt=\"Open In Colab\"/></a>"
      ]
    },
    {
      "cell_type": "markdown",
      "source": [
        "# **DFS code in python**"
      ],
      "metadata": {
        "id": "AWFq5TLlUMPj"
      }
    },
    {
      "cell_type": "code",
      "source": [
        "class Graph:\n",
        "    def __init__(self):\n",
        "        self.graph = {}\n",
        "    def add_edge(self, vertex, neighbor):\n",
        "        if vertex in self.graph:\n",
        "            self.graph[vertex].append(neighbor)\n",
        "        else:\n",
        "            self.graph[vertex] = [neighbor]\n",
        "    def dfs(self, start):\n",
        "        visited = set()\n",
        "        self._dfs_recursive(start, visited)\n",
        "\n",
        "    def _dfs_recursive(self, vertex, visited):\n",
        "        if vertex not in visited:\n",
        "            print(vertex, end=' ')\n",
        "            visited.add(vertex)\n",
        "            if vertex in self.graph:\n",
        "                for neighbor in self.graph[vertex]:\n",
        "                    self._dfs_recursive(neighbor, visited)\n",
        "\n",
        "if __name__ == \"__main__\":\n",
        "    g = Graph()\n",
        "    g.add_edge('A', 'B')\n",
        "    g.add_edge('A', 'C')\n",
        "    g.add_edge('B', 'D')\n",
        "    g.add_edge('B', 'E')\n",
        "    g.add_edge('C', 'F')\n",
        "    print(\"Depth-First Traversal starting from 'A':\")\n",
        "    g.dfs('A')\n"
      ],
      "metadata": {
        "id": "m0L--iOQUSEp"
      },
      "execution_count": null,
      "outputs": []
    }
  ]
}